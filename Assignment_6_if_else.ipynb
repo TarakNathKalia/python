{
 "cells": [
  {
   "cell_type": "code",
   "execution_count": 15,
   "id": "5cced77d-007a-4352-8c7e-a1985235ea6c",
   "metadata": {},
   "outputs": [
    {
     "name": "stdin",
     "output_type": "stream",
     "text": [
      "enter the length in centimeters 15\n"
     ]
    },
    {
     "name": "stdout",
     "output_type": "stream",
     "text": [
      "15cm is 5.91 inches\n"
     ]
    }
   ],
   "source": [
    "length=eval(input('enter the length in centimeters'))\n",
    "if length<0:\n",
    "    print('invalid entry')\n",
    "else:\n",
    "    inches=length/2.54\n",
    "    print(f'{length}cm is {inches:.2f} inches')"
   ]
  },
  {
   "cell_type": "code",
   "execution_count": 47,
   "id": "4901e271-9325-4f28-9624-11dfce76340e",
   "metadata": {},
   "outputs": [
    {
     "name": "stdin",
     "output_type": "stream",
     "text": [
      "enter the temperature Value: 100\n",
      "is the temperature in celcius or fahrenheit? (enter C or F): C\n"
     ]
    },
    {
     "name": "stdout",
     "output_type": "stream",
     "text": [
      "100celcius is 212.00fahrenheit\n"
     ]
    }
   ],
   "source": [
    "temp=eval(input('enter the temperature Value:'))\n",
    "unit=input('is the temperature in celcius or fahrenheit? (enter C or F):')\n",
    "if unit=='C':\n",
    "    fahrenheit=(9/5)*temp+32\n",
    "    print(f'{temp}celcius is {fahrenheit:.2f}fahrenheit')\n",
    "else:\n",
    "    unit=='F'\n",
    "    celcius=(5/9)*(temp-32)\n",
    "    print(f'{temp}fahrenheit is {celcius:.2f}celcius')"
   ]
  },
  {
   "cell_type": "code",
   "execution_count": 55,
   "id": "91e3e94f-1dd4-4e27-9ae4-6260e737253e",
   "metadata": {},
   "outputs": [
    {
     "name": "stdin",
     "output_type": "stream",
     "text": [
      "enter the temperature in celcius: 0\n"
     ]
    },
    {
     "name": "stdout",
     "output_type": "stream",
     "text": [
      "the temperature is at freezing point.\n"
     ]
    }
   ],
   "source": [
    "temp=eval(input('enter the temperature in celcius:'))\n",
    "if temp < -273.15:\n",
    "    print('the temperature is invalid because it is below absolute zero.')\n",
    "elif temp == -273.15:\n",
    "    print('the temperature is absolute zero.')\n",
    "elif temp < 0:\n",
    "    print('the temperature is below freezing.')\n",
    "elif temp == 0:\n",
    "    print('the temperature is at freezing point.')\n",
    "elif temp < 100:\n",
    "    print('the temperature is normal.')\n",
    "elif temp == 100:\n",
    "    print('the temperature is at boiling point.')\n",
    "else:\n",
    "    print('the temperature is above boiling point.')"
   ]
  },
  {
   "cell_type": "code",
   "execution_count": 65,
   "id": "e9f06b40-89fc-4fc6-b664-8aba1e5f2b72",
   "metadata": {},
   "outputs": [
    {
     "name": "stdin",
     "output_type": "stream",
     "text": [
      "enter credits you have taken 100\n"
     ]
    },
    {
     "name": "stdout",
     "output_type": "stream",
     "text": [
      "they are senior\n"
     ]
    }
   ],
   "source": [
    "credits=eval(input('enter credits you have taken'))\n",
    "if credits <= 23:\n",
    "    print('the student is a freshman.')\n",
    "elif credits <=53:\n",
    "    print('they are asophomore.')\n",
    "elif credits <=83:\n",
    "    print('ther are junior')\n",
    "else:\n",
    "    print('they are senior')"
   ]
  },
  {
   "cell_type": "code",
   "execution_count": 69,
   "id": "e0f18cc3-e93c-4076-a0bc-7bb43e6e0266",
   "metadata": {},
   "outputs": [
    {
     "name": "stdin",
     "output_type": "stream",
     "text": [
      "enter the number you guessed 3\n"
     ]
    },
    {
     "name": "stdout",
     "output_type": "stream",
     "text": [
      "you guess the wrong number\n"
     ]
    }
   ],
   "source": [
    "from random import randint\n",
    "num=randint(1,10)\n",
    "guess_the_number=eval(input('enter the number you guessed'))\n",
    "if num == guess_the_number:\n",
    "    print('you guess the right number')\n",
    "else:\n",
    "    print('you guess the wrong number')"
   ]
  },
  {
   "cell_type": "code",
   "execution_count": 87,
   "id": "0c9e9f48-12bb-4694-8335-09bdb6f63c2d",
   "metadata": {},
   "outputs": [
    {
     "name": "stdin",
     "output_type": "stream",
     "text": [
      "enter the number of items you want to buy 10\n"
     ]
    },
    {
     "name": "stdout",
     "output_type": "stream",
     "text": [
      "the total cost is:100\n"
     ]
    }
   ],
   "source": [
    "items=eval(input('enter the number of items you want to buy'))\n",
    "if items < 10:\n",
    "    charge_per_item=12\n",
    "elif items < 99:\n",
    "    charge_per_item=10\n",
    "else:\n",
    "    charge_per_item=7\n",
    "total_cost=items*charge_per_item\n",
    "print(f'the total cost is:{total_cost}')"
   ]
  },
  {
   "cell_type": "code",
   "execution_count": 1,
   "id": "821fe951-30bf-41d9-b51b-ffaf6bd881b2",
   "metadata": {},
   "outputs": [
    {
     "name": "stdin",
     "output_type": "stream",
     "text": [
      "enter n1: 1\n",
      "enter n2: 2\n"
     ]
    },
    {
     "name": "stdout",
     "output_type": "stream",
     "text": [
      "we are not close\n"
     ]
    }
   ],
   "source": [
    "n1=eval(input('enter n1:'))\n",
    "n2=eval(input('enter n2:'))\n",
    "if abs(n1-n2) <= 0.001:\n",
    "    print('we are close')\n",
    "else:\n",
    "    print('we are not close')"
   ]
  },
  {
   "cell_type": "code",
   "execution_count": 19,
   "id": "565597d6-ec17-4b82-aa34-b8b287a6b216",
   "metadata": {},
   "outputs": [
    {
     "name": "stdin",
     "output_type": "stream",
     "text": [
      "enter the year: 2000\n"
     ]
    },
    {
     "name": "stdout",
     "output_type": "stream",
     "text": [
      "it is a leap year\n"
     ]
    }
   ],
   "source": [
    "year=eval(input('enter the year:'))\n",
    "if (year%4==0 and year%100!=0) or year%400==0:\n",
    "    print('it is a leap year')\n",
    "else:\n",
    "    print('it is not a leap year')"
   ]
  },
  {
   "cell_type": "code",
   "execution_count": 1,
   "id": "a174b051-3b5d-42c9-8c75-4ec2f986ee6b",
   "metadata": {},
   "outputs": [
    {
     "name": "stdin",
     "output_type": "stream",
     "text": [
      "Enter hour:  9\n",
      "am (1) or pm (2)?  1\n",
      "How many hours ahead?  7\n"
     ]
    },
    {
     "name": "stdout",
     "output_type": "stream",
     "text": [
      "New hour: 4 pm\n"
     ]
    }
   ],
   "source": [
    "hour = eval(input(\"Enter hour: \"))\n",
    "am_pm = eval(input(\"am (1) or pm (2)? \"))\n",
    "hours_ahead = eval(input(\"How many hours ahead? \"))\n",
    "if am_pm == 1:  \n",
    "    if hour == 12:\n",
    "        hour_24 = 0  \n",
    "    else:\n",
    "        hour_24 = hour\n",
    "elif am_pm == 2:  \n",
    "    if hour == 12:\n",
    "        hour_24 = 12  \n",
    "    else:\n",
    "        hour_24 = hour + 12\n",
    "new_hour_24 = (hour_24 + hours_ahead) % 24\n",
    "if new_hour_24 == 0:\n",
    "    new_hour = 12\n",
    "    new_am_pm = \"am\"\n",
    "elif new_hour_24 == 12:\n",
    "    new_hour = 12\n",
    "    new_am_pm = \"pm\"\n",
    "elif new_hour_24 < 12:\n",
    "    new_hour = new_hour_24\n",
    "    new_am_pm = \"am\"\n",
    "else:\n",
    "    new_hour = new_hour_24 - 12\n",
    "    new_am_pm = \"pm\"\n",
    "print(f\"New hour: {new_hour} {new_am_pm}\")"
   ]
  },
  {
   "cell_type": "code",
   "execution_count": null,
   "id": "a2ee7ff7-2edc-46f7-80a8-3c94ea70b01a",
   "metadata": {},
   "outputs": [],
   "source": []
  }
 ],
 "metadata": {
  "kernelspec": {
   "display_name": "Python 3 (ipykernel)",
   "language": "python",
   "name": "python3"
  },
  "language_info": {
   "codemirror_mode": {
    "name": "ipython",
    "version": 3
   },
   "file_extension": ".py",
   "mimetype": "text/x-python",
   "name": "python",
   "nbconvert_exporter": "python",
   "pygments_lexer": "ipython3",
   "version": "3.12.4"
  }
 },
 "nbformat": 4,
 "nbformat_minor": 5
}
