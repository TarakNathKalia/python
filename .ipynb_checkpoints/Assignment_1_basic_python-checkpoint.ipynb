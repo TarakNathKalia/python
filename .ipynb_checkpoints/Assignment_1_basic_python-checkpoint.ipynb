{
 "cells": [
  {
   "cell_type": "code",
   "execution_count": null,
   "id": "63ec4729-cede-4c98-bf6c-aa778c6458fc",
   "metadata": {},
   "outputs": [],
   "source": [
    "# hello how are "
   ]
  },
  {
   "cell_type": "code",
   "execution_count": 1,
   "id": "963b2133-4ba6-4054-bbe3-1cf149e5b59a",
   "metadata": {},
   "outputs": [
    {
     "name": "stdin",
     "output_type": "stream",
     "text": [
      "enter the number n1 10\n",
      "enter the number n2 20\n",
      "enter the number n 30\n"
     ]
    },
    {
     "name": "stdout",
     "output_type": "stream",
     "text": [
      "the average of 10,20,30 is: 20.0\n"
     ]
    }
   ],
   "source": [
    "# 1)wap ask the user enter 3 numbers n1,n2,n3 from ketboard\n",
    "# calculate average\n",
    "\n",
    "n1=eval(input('enter the number n1'))\n",
    "n2=eval(input('enter the number n2'))\n",
    "n3=eval(input('enter the number n'))\n",
    "avg=(n1+n2+n3)/3\n",
    "print(f'the average of {n1},{n2},{n3} is: {avg}')"
   ]
  },
  {
   "cell_type": "code",
   "execution_count": 7,
   "id": "2920711f-e157-47e4-bc93-b3e6ac589060",
   "metadata": {},
   "outputs": [
    {
     "name": "stdin",
     "output_type": "stream",
     "text": [
      "enter the number n1 10\n",
      "enter the number n2 20\n",
      "enter the number n 30\n"
     ]
    },
    {
     "name": "stdout",
     "output_type": "stream",
     "text": [
      "the average of 10,20,30 is: 20.0\n"
     ]
    }
   ],
   "source": [
    "# 1)wap ask the user enter 3 numbers n1,n2,n3 from ketboard\n",
    "# calculate average\n",
    "\n",
    "n1=eval(input('enter the number n1'))\n",
    "n2=eval(input('enter the number n2'))\n",
    "n3=eval(input('enter the number n'))\n",
    "avg=(n1+n2+n3)/3\n",
    "print(f'the average of {n1},{n2},{n3} is: {avg}')"
   ]
  },
  {
   "cell_type": "code",
   "execution_count": 9,
   "id": "c390b206-9b1b-4e03-a6e2-07c84f586bc7",
   "metadata": {},
   "outputs": [
    {
     "name": "stdin",
     "output_type": "stream",
     "text": [
      "enter the name python\n",
      "enter the age 10\n",
      "enter the city hyd\n"
     ]
    },
    {
     "name": "stdout",
     "output_type": "stream",
     "text": [
      "my name is python and i am 10 years old i am from hyd\n"
     ]
    }
   ],
   "source": [
    "# 2)wap ask the user enter name age city\n",
    "# print my name is python im 10 years old and came from hyd\n",
    "\n",
    "name=input('enter the name')\n",
    "age=eval(input('enter the age'))\n",
    "city=input('enter the city')\n",
    "print(f'my name is {name} and i am {age} years old i am from {city}')"
   ]
  },
  {
   "cell_type": "code",
   "execution_count": 13,
   "id": "4e0ff35e-694d-4e6d-aa73-9d12f0f70be6",
   "metadata": {},
   "outputs": [
    {
     "name": "stdin",
     "output_type": "stream",
     "text": [
      "enter the radius 10\n"
     ]
    },
    {
     "name": "stdout",
     "output_type": "stream",
     "text": [
      "the area of the circle is 314.0\n"
     ]
    }
   ],
   "source": [
    "# 3)wap ask the user to enter radidus of a circle calculate area of the circle\n",
    "\n",
    "# using f- string\n",
    "\n",
    "radius=eval(input('enter the radius'))\n",
    "pi=3.14\n",
    "area=pi*radius*radius\n",
    "print(f'the area of the circle is {area}')"
   ]
  },
  {
   "cell_type": "code",
   "execution_count": 15,
   "id": "49cea3bd-049a-4ce0-9285-2571d277225e",
   "metadata": {},
   "outputs": [
    {
     "name": "stdin",
     "output_type": "stream",
     "text": [
      "enter the radius 10\n"
     ]
    },
    {
     "name": "stdout",
     "output_type": "stream",
     "text": [
      "the area of the circle is 314.0\n"
     ]
    }
   ],
   "source": [
    "# 3)wap ask the user to enter radidus of a circle calculate area of the circle\n",
    "\n",
    "# using format\n",
    "\n",
    "radius=eval(input('enter the radius'))\n",
    "pi=3.14\n",
    "area=pi*radius*radius\n",
    "print('the area of the circle is {}'.format(area))"
   ]
  },
  {
   "cell_type": "code",
   "execution_count": 21,
   "id": "ee949541-64bb-4dac-be3b-f0fe1819ccc1",
   "metadata": {},
   "outputs": [
    {
     "name": "stdin",
     "output_type": "stream",
     "text": [
      "enter the breadth 10\n",
      "enter the length 20\n"
     ]
    },
    {
     "name": "stdout",
     "output_type": "stream",
     "text": [
      "the area of a right angled triangle is 100.0\n"
     ]
    }
   ],
   "source": [
    "# 4)wap ask the user enter breadth and height of a right angle triangle. calculate the area\n",
    "\n",
    "base=eval(input('enter the breadth'))\n",
    "length=eval(input('enter the length'))\n",
    "area=1/2*length*base\n",
    "print(f'the area of a right angled triangle is {area}')"
   ]
  },
  {
   "cell_type": "code",
   "execution_count": 23,
   "id": "0b26bcd7-1537-46e6-954b-217d1cbcbde5",
   "metadata": {},
   "outputs": [
    {
     "name": "stdin",
     "output_type": "stream",
     "text": [
      "enter the bill amount 1000\n",
      "enter the tip amount 200\n"
     ]
    },
    {
     "name": "stdout",
     "output_type": "stream",
     "text": [
      "the total bill is 1200\n"
     ]
    }
   ],
   "source": [
    "# 5)wap ask the user the bill amount and tip amount\n",
    "\n",
    "bill_amount=eval(input('enter the bill amount'))\n",
    "tip_amount=eval(input('enter the tip amount'))\n",
    "total_bill=bill_amount+tip_amount\n",
    "print(f'the total bill is {total_bill}')"
   ]
  },
  {
   "cell_type": "code",
   "execution_count": 25,
   "id": "98936f40-064a-4d4f-9d21-c272b0df7724",
   "metadata": {},
   "outputs": [
    {
     "name": "stdin",
     "output_type": "stream",
     "text": [
      "enter the bill amount 1000\n",
      "enter the tip percent 10\n"
     ]
    },
    {
     "name": "stdout",
     "output_type": "stream",
     "text": [
      "the total bill is 1100.0\n"
     ]
    }
   ],
   "source": [
    "# 6)wap ask the user the bill amount and tip percentage\n",
    "\n",
    "bill_amount=eval(input('enter the bill amount'))\n",
    "tip_percentage=eval(input('enter the tip percent'))\n",
    "total_bill=bill_amount+bill_amount*tip_percentage/100\n",
    "print(f'the total bill is {total_bill}')"
   ]
  },
  {
   "cell_type": "code",
   "execution_count": 27,
   "id": "1ded9cc4-a3cf-4a4f-a8b4-8867c328fa90",
   "metadata": {},
   "outputs": [
    {
     "name": "stdin",
     "output_type": "stream",
     "text": [
      "enter the length 10\n",
      "enter the breadth 20\n"
     ]
    },
    {
     "name": "stdout",
     "output_type": "stream",
     "text": [
      "the area of the rectangle is 200\n"
     ]
    }
   ],
   "source": [
    "# 7)wap ask the length and breadth of a rectangle calculate area\n",
    "\n",
    "length=eval(input('enter the length'))\n",
    "breadth=eval(input('enter the breadth'))\n",
    "area=length*breadth\n",
    "print(f'the area of the rectangle is {area}')"
   ]
  },
  {
   "cell_type": "code",
   "execution_count": 30,
   "id": "d5825dad-3ac4-4506-b943-6d0f1801efec",
   "metadata": {},
   "outputs": [
    {
     "name": "stdin",
     "output_type": "stream",
     "text": [
      "enter the radius 10\n"
     ]
    },
    {
     "name": "stdout",
     "output_type": "stream",
     "text": [
      "the volume of the sphere is 418.6666666666667\n"
     ]
    }
   ],
   "source": [
    "# 8) wap ask the user take the radius and calculate volume of sphere\n",
    "\n",
    "radius=eval(input('enter the radius'))\n",
    "pi=3.14\n",
    "volume=4/3*pi*radius*radius\n",
    "print(f'the volume of the sphere is {volume}')"
   ]
  },
  {
   "cell_type": "code",
   "execution_count": 44,
   "id": "9031d6b7-63ae-4b73-85f7-f1cfd40e79b4",
   "metadata": {},
   "outputs": [
    {
     "name": "stdin",
     "output_type": "stream",
     "text": [
      "enter amount in dollars 10\n"
     ]
    },
    {
     "name": "stdout",
     "output_type": "stream",
     "text": [
      "10$ is 850rupees\n"
     ]
    }
   ],
   "source": [
    "# 9) wap ask the user enter amount in dollars convert into rupees\n",
    "#    1$=85rs\n",
    "\n",
    "amount_dollars=eval(input('enter amount in dollars'))\n",
    "conversion=amount_dollars*85\n",
    "print(f'{amount_dollars}$ is {conversion}rupees')"
   ]
  },
  {
   "cell_type": "code",
   "execution_count": 42,
   "id": "e086c3e5-eac4-48b9-b120-613db716be47",
   "metadata": {},
   "outputs": [
    {
     "name": "stdin",
     "output_type": "stream",
     "text": [
      "enter weight in kilogram 10\n"
     ]
    },
    {
     "name": "stdout",
     "output_type": "stream",
     "text": [
      "10kg is 22.0pounds\n"
     ]
    }
   ],
   "source": [
    "# 10) wap ask the user enter weight in kgs convert into pounds\n",
    "#     1kg= 2.2pounds\n",
    "\n",
    "kg_weight=eval(input('enter weight in kilogram'))\n",
    "conversion=kg_weight*2.2\n",
    "print(f'{kg_weight}kg is {conversion}pounds')"
   ]
  },
  {
   "cell_type": "code",
   "execution_count": null,
   "id": "848905bd-e40a-4d03-9429-c3f8958f90e7",
   "metadata": {},
   "outputs": [],
   "source": []
  }
 ],
 "metadata": {
  "kernelspec": {
   "display_name": "Python 3 (ipykernel)",
   "language": "python",
   "name": "python3"
  },
  "language_info": {
   "codemirror_mode": {
    "name": "ipython",
    "version": 3
   },
   "file_extension": ".py",
   "mimetype": "text/x-python",
   "name": "python",
   "nbconvert_exporter": "python",
   "pygments_lexer": "ipython3",
   "version": "3.12.4"
  }
 },
 "nbformat": 4,
 "nbformat_minor": 5
}
